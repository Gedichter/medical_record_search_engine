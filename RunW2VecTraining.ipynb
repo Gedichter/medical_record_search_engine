{
 "cells": [
  {
   "cell_type": "markdown",
   "metadata": {},
   "source": [
    "# RunW2VecTraining\n",
    "\n",
    "This notebook performs a data cleaning and subsequently allows to train word- and char-gram models, which are used for the QueryExpander functionality (resolving both misspelling and synonym issues)."
   ]
  },
  {
   "cell_type": "code",
   "execution_count": 1,
   "metadata": {
    "collapsed": true,
    "scrolled": false
   },
   "outputs": [],
   "source": [
    "%run includes/imports.py\n",
    "%load_ext autoreload\n",
    "%autoreload 2\n",
    "from includes.w2vec import W2VecModel\n",
    "from includes.stringop import StringOp\n",
    "import io"
   ]
  },
  {
   "cell_type": "code",
   "execution_count": 2,
   "metadata": {
    "collapsed": true
   },
   "outputs": [],
   "source": [
    "data = pd.read_csv('data/NOTEEVENTS.csv', dtype={'TEXT': str}, usecols = ['TEXT'])"
   ]
  },
  {
   "cell_type": "code",
   "execution_count": 2,
   "metadata": {
    "collapsed": true
   },
   "outputs": [],
   "source": [
    "def write_clean_index(file, maxindex=-1):\n",
    "    sentences = []\n",
    "    for i in tqdm(range(data.shape[0])):\n",
    "        sen = StringOp.clean(data.iloc[i]['TEXT'])\n",
    "        for s in sen:\n",
    "            if not 'FILLER' in s:\n",
    "                s = re.sub(r'[0-9]+', '', s)\n",
    "                words = s.replace('.', '').replace(',','').replace(':','').split(' ')\n",
    "                words = [w.lower() for w in words if len(w)>0]\n",
    "                sentences.append(words)\n",
    "        if maxindex!=-1 and i>maxindex:\n",
    "            break\n",
    "                \n",
    "    f = open(file, 'w')\n",
    "    json.dump(sentences, f)\n",
    "    f.close()\n",
    "    return sentences\n",
    "\n",
    "def read_clean_index(file):\n",
    "    f = open(file, 'rb')\n",
    "    bdata = io.BytesIO()\n",
    "    while True:\n",
    "        chunk = f.read(65536*4)\n",
    "        clear_output(True)\n",
    "        if not chunk:\n",
    "            break\n",
    "        bdata.write(chunk)\n",
    "    bdata.seek(0)\n",
    "    \n",
    "    sentences = json.load(bdata)\n",
    "    f.close()\n",
    "    return sentences"
   ]
  },
  {
   "cell_type": "code",
   "execution_count": 4,
   "metadata": {},
   "outputs": [
    {
     "name": "stderr",
     "output_type": "stream",
     "text": [
      "100%|██████████| 2083180/2083180 [54:29<00:00, 637.18it/s] \n"
     ]
    }
   ],
   "source": [
    "result = write_clean_index(file='index/clean.json')"
   ]
  },
  {
   "cell_type": "code",
   "execution_count": 3,
   "metadata": {},
   "outputs": [
    {
     "name": "stdout",
     "output_type": "stream",
     "text": [
      "2689960\n"
     ]
    }
   ],
   "source": [
    "result = read_clean_index(file='index/clean.json') #can take a while."
   ]
  },
  {
   "cell_type": "code",
   "execution_count": 4,
   "metadata": {
    "collapsed": true
   },
   "outputs": [],
   "source": [
    "model_char = W2VecModel()\n",
    "model_word = W2VecModel()"
   ]
  },
  {
   "cell_type": "code",
   "execution_count": 5,
   "metadata": {},
   "outputs": [
    {
     "name": "stdout",
     "output_type": "stream",
     "text": [
      "Epoch #0 start\n",
      "Epoch #0 end\n",
      "Epoch #1 start\n",
      "Epoch #1 end\n",
      "Epoch #2 start\n",
      "Epoch #2 end\n",
      "Epoch #3 start\n",
      "Epoch #3 end\n",
      "Epoch #4 start\n",
      "Epoch #4 end\n"
     ]
    }
   ],
   "source": [
    "model_char.train_model(sentences = result, use_char_gram=True, size=300, window=3, min_count=5, workers=4, max_vocab_size=100000, char_n_max=5, char_n_min=3, file='index/model_char.w2v')"
   ]
  },
  {
   "cell_type": "code",
   "execution_count": 6,
   "metadata": {},
   "outputs": [
    {
     "name": "stdout",
     "output_type": "stream",
     "text": [
      "Epoch #0 start\n",
      "Epoch #0 end\n",
      "Epoch #1 start\n",
      "Epoch #1 end\n",
      "Epoch #2 start\n",
      "Epoch #2 end\n",
      "Epoch #3 start\n",
      "Epoch #3 end\n",
      "Epoch #4 start\n",
      "Epoch #4 end\n"
     ]
    }
   ],
   "source": [
    "model_word.train_model(sentences = result, use_char_gram=False, size=300, window=3, min_count=5, workers=4, max_vocab_size=100000, char_n_max=5, char_n_min=3, file='index/model_word.w2v')"
   ]
  }
 ],
 "metadata": {
  "kernelspec": {
   "display_name": "Python 3",
   "language": "python",
   "name": "python3"
  },
  "language_info": {
   "codemirror_mode": {
    "name": "ipython",
    "version": 3
   },
   "file_extension": ".py",
   "mimetype": "text/x-python",
   "name": "python",
   "nbconvert_exporter": "python",
   "pygments_lexer": "ipython3",
   "version": "3.6.5"
  }
 },
 "nbformat": 4,
 "nbformat_minor": 2
}

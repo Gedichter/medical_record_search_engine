{
 "cells": [
  {
   "cell_type": "markdown",
   "metadata": {},
   "source": [
    "# TestQueryExpander\n",
    "\n",
    "This notebook is intended to allow testing of the query expander functionalities."
   ]
  },
  {
   "cell_type": "code",
   "execution_count": 3,
   "metadata": {},
   "outputs": [
    {
     "name": "stdout",
     "output_type": "stream",
     "text": [
      "The autoreload extension is already loaded. To reload it, use:\n",
      "  %reload_ext autoreload\n"
     ]
    }
   ],
   "source": [
    "%run includes/imports.py\n",
    "%load_ext autoreload\n",
    "%autoreload 2"
   ]
  },
  {
   "cell_type": "code",
   "execution_count": 4,
   "metadata": {
    "collapsed": true
   },
   "outputs": [],
   "source": [
    "from includes.w2vec import W2VecModel\n",
    "from includes.stringop import StringOp\n",
    "from includes.query_expander import QueryExpander"
   ]
  },
  {
   "cell_type": "code",
   "execution_count": 5,
   "metadata": {
    "collapsed": true
   },
   "outputs": [],
   "source": [
    "W2VEC = W2VecModel()\n",
    "CHARGRAM = W2VecModel()\n",
    "CHARGRAM.load_model('index/model_char.w2v')\n",
    "W2VEC.load_model('index/model_word.w2v')"
   ]
  },
  {
   "cell_type": "markdown",
   "metadata": {},
   "source": [
    "### Examples based only on similarity"
   ]
  },
  {
   "cell_type": "code",
   "execution_count": 20,
   "metadata": {},
   "outputs": [
    {
     "data": {
      "text/plain": [
       "[('positive', 1.0000000000000002),\n",
       " ('abpositive', 0.8355537035720784),\n",
       " ('postive', 0.8130600649744406),\n",
       " ('positve', 0.7822468589336342),\n",
       " ('postitive', 0.7510675444130227),\n",
       " ('positives', 0.7392044856168408),\n",
       " ('positively', 0.7038659005629259),\n",
       " ('positivea', 0.7027010878931468),\n",
       " ('positivect', 0.6979095399950261),\n",
       " ('negative', 0.6956199336338913)]"
      ]
     },
     "execution_count": 20,
     "metadata": {},
     "output_type": "execute_result"
    }
   ],
   "source": [
    "CHARGRAM.get_extreme_similarities('positive')"
   ]
  },
  {
   "cell_type": "code",
   "execution_count": 21,
   "metadata": {},
   "outputs": [
    {
     "data": {
      "text/plain": [
       "[('huge', 1.0000000000000004),\n",
       " ('large', 0.6384507011392142),\n",
       " ('lg', 0.6009116508986884),\n",
       " ('lge', 0.5450525756247275),\n",
       " ('arge', 0.5260361555314194),\n",
       " ('lrg', 0.5231096949279312),\n",
       " ('enormous', 0.5171426099474428),\n",
       " ('massive', 0.4961792736972691),\n",
       " ('substantial', 0.4894304978358199),\n",
       " ('mall', 0.44649910128078224)]"
      ]
     },
     "execution_count": 21,
     "metadata": {},
     "output_type": "execute_result"
    }
   ],
   "source": [
    "W2VEC.get_extreme_similarities('huge')"
   ]
  },
  {
   "cell_type": "markdown",
   "metadata": {},
   "source": [
    "### Examples based on QueryExpander"
   ]
  },
  {
   "cell_type": "code",
   "execution_count": 6,
   "metadata": {
    "collapsed": true
   },
   "outputs": [],
   "source": [
    "Expander = QueryExpander(W2VEC, CHARGRAM) "
   ]
  },
  {
   "cell_type": "code",
   "execution_count": 11,
   "metadata": {},
   "outputs": [
    {
     "name": "stdout",
     "output_type": "stream",
     "text": [
      "small 1\n",
      "little 1\n",
      "minor 1\n",
      "modest 1\n",
      "small-scale 1\n",
      "pocket-size 1\n",
      "pocket-sized 1\n",
      "humble 1\n",
      "low 1\n",
      "lowly 1\n",
      "minuscule 1\n",
      "belittled 1\n",
      "diminished 1\n",
      "smalla 0.7746757406450243\n",
      "smallto 0.774522577216758\n"
     ]
    }
   ],
   "source": [
    "for k,v in Expander.expand_word(\"small\", syn_filter=False).items():\n",
    "    print(k, v)"
   ]
  },
  {
   "cell_type": "code",
   "execution_count": 12,
   "metadata": {},
   "outputs": [
    {
     "name": "stdout",
     "output_type": "stream",
     "text": [
      "small 1\n",
      "little 0.27506903884402584\n",
      "minor 0.2603955926489393\n",
      "modest 0.13340838154436163\n",
      "low 0.2344518959190348\n",
      "minuscule 0.3969706115245425\n",
      "diminished 0.15832813430928297\n",
      "smalla 0.7746757406450243\n",
      "smallto 0.774522577216758\n"
     ]
    }
   ],
   "source": [
    "for k,v in Expander.expand_word(\"small\", 0.2).items():\n",
    "    print(k, v)"
   ]
  },
  {
   "cell_type": "code",
   "execution_count": 13,
   "metadata": {},
   "outputs": [
    {
     "name": "stdout",
     "output_type": "stream",
     "text": [
      "small 1\n",
      "little 1\n",
      "minor 1\n",
      "modest 1\n",
      "small-scale 1\n",
      "pocket-size 1\n",
      "pocket-sized 1\n",
      "humble 1\n",
      "low 1\n",
      "lowly 1\n",
      "minuscule 1\n",
      "belittled 1\n",
      "diminished 1\n"
     ]
    }
   ],
   "source": [
    "for k,v in Expander.get_synonym_no_filtering('small').items():\n",
    "    print(k, v)"
   ]
  },
  {
   "cell_type": "code",
   "execution_count": 14,
   "metadata": {},
   "outputs": [
    {
     "name": "stdout",
     "output_type": "stream",
     "text": [
      "bleeding 0.39020930927541164\n",
      "hemorrhage 1\n",
      "haemorrhage 0.8255109169510516\n",
      "bleed 0.5537789455329523\n",
      "emorrhage 0.9043772806910582\n",
      "rehemorrhage 0.8976589619911091\n",
      "hemorrhaged 0.8950102063391685\n",
      "hemmorrhage 0.8669769690527649\n",
      "hemorhage 0.8376344115303077\n",
      "hemorrhagea 0.8270885150672542\n",
      "hemorrahge 0.8095592181684932\n",
      "hemorrhagect 0.8025166547889467\n",
      "hemorrhages 0.8021550983948165\n",
      "hemorrhagemri 0.7994347620007629\n",
      "hemorrhagecta 0.7988764494116896\n",
      "hemorrage 0.7777886578628944\n",
      "hemorrhaging 0.7726019875647785\n",
      "hemmorhage 0.7497029345127292\n",
      "hemmorhages 0.6350034548060906\n",
      "hemorragic 0.6180878007294357\n",
      "hemmorage 0.6023493466391348\n"
     ]
    }
   ],
   "source": [
    "for k,v in Expander.expand_word('hemorrhage', syn_threshold=0.2, var_thres_sim=30, var_thres_dis=3).items():\n",
    "    print(k, v)"
   ]
  },
  {
   "cell_type": "code",
   "execution_count": 18,
   "metadata": {},
   "outputs": [
    {
     "name": "stdout",
     "output_type": "stream",
     "text": [
      "positive 1\n",
      "abpositive 0.8355537035720784\n",
      "postive 0.8130600649744406\n",
      "positve 0.7822468589336342\n",
      "postitive 0.7510675444130227\n",
      "positives 0.7392044856168408\n",
      "positively 0.7038659005629259\n",
      "positivea 0.7027010878931468\n",
      "positivect 0.6979095399950261\n",
      "positivegi 0.6929377548357832\n",
      "possitive 0.6809354664334613\n",
      "postiive 0.6730314596389659\n",
      "postivie 0.6474585458725723\n"
     ]
    }
   ],
   "source": [
    "for k,v in Expander.expand_word('positive', syn_threshold=0.2, var_thres_sim=20, var_thres_dis=-1).items():\n",
    "    print(k, v)"
   ]
  },
  {
   "cell_type": "code",
   "execution_count": null,
   "metadata": {
    "collapsed": true
   },
   "outputs": [],
   "source": []
  }
 ],
 "metadata": {
  "kernelspec": {
   "display_name": "Python 3",
   "language": "python",
   "name": "python3"
  },
  "language_info": {
   "codemirror_mode": {
    "name": "ipython",
    "version": 3
   },
   "file_extension": ".py",
   "mimetype": "text/x-python",
   "name": "python",
   "nbconvert_exporter": "python",
   "pygments_lexer": "ipython3",
   "version": "3.6.5"
  }
 },
 "nbformat": 4,
 "nbformat_minor": 2
}

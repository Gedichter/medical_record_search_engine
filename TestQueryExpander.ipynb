{
 "cells": [
  {
   "cell_type": "markdown",
   "metadata": {},
   "source": [
    "# TestQueryExpander\n",
    "\n",
    "This notebook is intended to allow testing of the query expander functionalities."
   ]
  },
  {
   "cell_type": "code",
   "execution_count": 1,
   "metadata": {
    "collapsed": false
   },
   "outputs": [],
   "source": [
    "%run includes/imports.py\n",
    "%load_ext autoreload\n",
    "%autoreload 2"
   ]
  },
  {
   "cell_type": "code",
   "execution_count": 2,
   "metadata": {
    "collapsed": true
   },
   "outputs": [],
   "source": [
    "from includes.w2vec import W2VecModel\n",
    "from includes.stringop import StringOp\n",
    "from includes.query_expander import QueryExpander"
   ]
  },
  {
   "cell_type": "code",
   "execution_count": 3,
   "metadata": {
    "collapsed": true
   },
   "outputs": [],
   "source": [
    "W2VEC = W2VecModel()\n",
    "CHARGRAM = W2VecModel()\n",
    "CHARGRAM.load_model('index/model_char.w2v')\n",
    "W2VEC.load_model('index/model_word.w2v')"
   ]
  },
  {
   "cell_type": "markdown",
   "metadata": {},
   "source": [
    "### Examples based only on similarity"
   ]
  },
  {
   "cell_type": "code",
   "execution_count": 4,
   "metadata": {
    "collapsed": false
   },
   "outputs": [
    {
     "data": {
      "text/plain": [
       "[('positive', 1.0),\n",
       " ('abpositive', 0.83555370357207825),\n",
       " ('postive', 0.81306006497444039),\n",
       " ('positve', 0.78224685893363399),\n",
       " ('postitive', 0.75106754441302259),\n",
       " ('positives', 0.73920448561684071),\n",
       " ('positively', 0.70386590056292542),\n",
       " ('positivea', 0.70270108789314667),\n",
       " ('positivect', 0.69790953999502603),\n",
       " ('negative', 0.69561993363389107)]"
      ]
     },
     "execution_count": 4,
     "metadata": {},
     "output_type": "execute_result"
    }
   ],
   "source": [
    "CHARGRAM.get_extreme_similarities('positive')"
   ]
  },
  {
   "cell_type": "code",
   "execution_count": 5,
   "metadata": {
    "collapsed": false
   },
   "outputs": [
    {
     "data": {
      "text/plain": [
       "[('huge', 0.99999999999999989),\n",
       " ('large', 0.63845070113921376),\n",
       " ('lg', 0.60091165089868803),\n",
       " ('lge', 0.54505257562472731),\n",
       " ('arge', 0.52603615553141903),\n",
       " ('lrg', 0.52310969492793113),\n",
       " ('enormous', 0.51714260994744266),\n",
       " ('massive', 0.49617927369726889),\n",
       " ('substantial', 0.48943049783581977),\n",
       " ('mall', 0.44649910128078202)]"
      ]
     },
     "execution_count": 5,
     "metadata": {},
     "output_type": "execute_result"
    }
   ],
   "source": [
    "W2VEC.get_extreme_similarities('huge')"
   ]
  },
  {
   "cell_type": "markdown",
   "metadata": {},
   "source": [
    "### Examples based on QueryExpander"
   ]
  },
  {
   "cell_type": "code",
   "execution_count": 6,
   "metadata": {
    "collapsed": true
   },
   "outputs": [],
   "source": [
    "Expander = QueryExpander(W2VEC, CHARGRAM) "
   ]
  },
  {
   "cell_type": "code",
   "execution_count": 15,
   "metadata": {
    "collapsed": false
   },
   "outputs": [
    {
     "data": {
      "text/plain": [
       "{'crucial': 0.55781850907043729, 'important': 0.99999999999999989}"
      ]
     },
     "execution_count": 15,
     "metadata": {},
     "output_type": "execute_result"
    }
   ],
   "source": [
    "# Synonyms\n",
    "Expander.get_synonym(\"important\", 0.4)"
   ]
  },
  {
   "cell_type": "code",
   "execution_count": 11,
   "metadata": {
    "collapsed": false
   },
   "outputs": [
    {
     "data": {
      "text/plain": [
       "{'abpositive': 0.83555370357207825,\n",
       " 'positive': 1.0,\n",
       " 'positve': 0.78224685893363399,\n",
       " 'postitive': 0.75106754441302259,\n",
       " 'postive': 0.81306006497444039}"
      ]
     },
     "execution_count": 11,
     "metadata": {},
     "output_type": "execute_result"
    }
   ],
   "source": [
    "#misspelling and variants\n",
    "Expander.get_variants(\"positive\", 5, 2)"
   ]
  },
  {
   "cell_type": "code",
   "execution_count": 11,
   "metadata": {
    "collapsed": false
   },
   "outputs": [
    {
     "name": "stdout",
     "output_type": "stream",
     "text": [
      "small 1\n",
      "little 1\n",
      "minor 1\n",
      "modest 1\n",
      "small-scale 1\n",
      "pocket-size 1\n",
      "pocket-sized 1\n",
      "humble 1\n",
      "low 1\n",
      "lowly 1\n",
      "minuscule 1\n",
      "belittled 1\n",
      "diminished 1\n",
      "smalla 0.7746757406450243\n",
      "smallto 0.774522577216758\n"
     ]
    }
   ],
   "source": [
    "for k,v in Expander.expand_word(\"small\", syn_filter=False).items():\n",
    "    print(k, v)"
   ]
  },
  {
   "cell_type": "code",
   "execution_count": 12,
   "metadata": {
    "collapsed": false
   },
   "outputs": [
    {
     "name": "stdout",
     "output_type": "stream",
     "text": [
      "small 1\n",
      "little 0.27506903884402584\n",
      "minor 0.2603955926489393\n",
      "modest 0.13340838154436163\n",
      "low 0.2344518959190348\n",
      "minuscule 0.3969706115245425\n",
      "diminished 0.15832813430928297\n",
      "smalla 0.7746757406450243\n",
      "smallto 0.774522577216758\n"
     ]
    }
   ],
   "source": [
    "for k,v in Expander.expand_word(\"small\", 0.2).items():\n",
    "    print(k, v)"
   ]
  },
  {
   "cell_type": "code",
   "execution_count": 13,
   "metadata": {
    "collapsed": false
   },
   "outputs": [
    {
     "name": "stdout",
     "output_type": "stream",
     "text": [
      "small 1\n",
      "little 1\n",
      "minor 1\n",
      "modest 1\n",
      "small-scale 1\n",
      "pocket-size 1\n",
      "pocket-sized 1\n",
      "humble 1\n",
      "low 1\n",
      "lowly 1\n",
      "minuscule 1\n",
      "belittled 1\n",
      "diminished 1\n"
     ]
    }
   ],
   "source": [
    "for k,v in Expander.get_synonym_no_filtering('small').items():\n",
    "    print(k, v)"
   ]
  },
  {
   "cell_type": "code",
   "execution_count": 14,
   "metadata": {
    "collapsed": false
   },
   "outputs": [
    {
     "name": "stdout",
     "output_type": "stream",
     "text": [
      "bleeding 0.39020930927541164\n",
      "hemorrhage 1\n",
      "haemorrhage 0.8255109169510516\n",
      "bleed 0.5537789455329523\n",
      "emorrhage 0.9043772806910582\n",
      "rehemorrhage 0.8976589619911091\n",
      "hemorrhaged 0.8950102063391685\n",
      "hemmorrhage 0.8669769690527649\n",
      "hemorhage 0.8376344115303077\n",
      "hemorrhagea 0.8270885150672542\n",
      "hemorrahge 0.8095592181684932\n",
      "hemorrhagect 0.8025166547889467\n",
      "hemorrhages 0.8021550983948165\n",
      "hemorrhagemri 0.7994347620007629\n",
      "hemorrhagecta 0.7988764494116896\n",
      "hemorrage 0.7777886578628944\n",
      "hemorrhaging 0.7726019875647785\n",
      "hemmorhage 0.7497029345127292\n",
      "hemmorhages 0.6350034548060906\n",
      "hemorragic 0.6180878007294357\n",
      "hemmorage 0.6023493466391348\n"
     ]
    }
   ],
   "source": [
    "for k,v in Expander.expand_word('hemorrhage', syn_threshold=0.2, var_thres_sim=30, var_thres_dis=3).items():\n",
    "    print(k, v)"
   ]
  },
  {
   "cell_type": "code",
   "execution_count": 18,
   "metadata": {
    "collapsed": false
   },
   "outputs": [
    {
     "name": "stdout",
     "output_type": "stream",
     "text": [
      "positive 1\n",
      "abpositive 0.8355537035720784\n",
      "postive 0.8130600649744406\n",
      "positve 0.7822468589336342\n",
      "postitive 0.7510675444130227\n",
      "positives 0.7392044856168408\n",
      "positively 0.7038659005629259\n",
      "positivea 0.7027010878931468\n",
      "positivect 0.6979095399950261\n",
      "positivegi 0.6929377548357832\n",
      "possitive 0.6809354664334613\n",
      "postiive 0.6730314596389659\n",
      "postivie 0.6474585458725723\n"
     ]
    }
   ],
   "source": [
    "for k,v in Expander.expand_word('positive', syn_threshold=0.2, var_thres_sim=20, var_thres_dis=-1).items():\n",
    "    print(k, v)"
   ]
  }
 ],
 "metadata": {
  "kernelspec": {
   "display_name": "Python 3",
   "language": "python",
   "name": "python3"
  },
  "language_info": {
   "codemirror_mode": {
    "name": "ipython",
    "version": 3
   },
   "file_extension": ".py",
   "mimetype": "text/x-python",
   "name": "python",
   "nbconvert_exporter": "python",
   "pygments_lexer": "ipython3",
   "version": "3.6.0"
  }
 },
 "nbformat": 4,
 "nbformat_minor": 2
}
